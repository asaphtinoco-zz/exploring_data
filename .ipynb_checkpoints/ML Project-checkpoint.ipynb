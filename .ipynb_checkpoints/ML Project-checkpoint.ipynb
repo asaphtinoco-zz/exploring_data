{
 "cells": [
  {
   "cell_type": "markdown",
   "metadata": {},
   "source": [
    "# Pump it up: Data Mining and the water table"
   ]
  },
  {
   "cell_type": "markdown",
   "metadata": {},
   "source": [
    "Hello y'all, today I will be running my solution for a water's pump predictive maintenance. This dataset was firstly difused by [drivendata.org](drivendata.org) in order to propose a cheaper solution for Tanzania's water distribution. \n",
    "\n",
    "I'll do this in five parts as listed below: \n",
    "\n",
    "* Gathering and Exploring Data\n",
    "* Processing data\n",
    "* Researching a model that fits \n",
    "* Training and Testing \n",
    "* Evaluation"
   ]
  },
  {
   "cell_type": "markdown",
   "metadata": {},
   "source": [
    "### 1. Gathering and Exploring Data\n",
    "Here, the first thing is see what data looks like and get the next further steps. "
   ]
  },
  {
   "cell_type": "code",
   "execution_count": 2,
   "metadata": {},
   "outputs": [
    {
     "data": {
      "text/html": [
       "<div>\n",
       "<style scoped>\n",
       "    .dataframe tbody tr th:only-of-type {\n",
       "        vertical-align: middle;\n",
       "    }\n",
       "\n",
       "    .dataframe tbody tr th {\n",
       "        vertical-align: top;\n",
       "    }\n",
       "\n",
       "    .dataframe thead th {\n",
       "        text-align: right;\n",
       "    }\n",
       "</style>\n",
       "<table border=\"1\" class=\"dataframe\">\n",
       "  <thead>\n",
       "    <tr style=\"text-align: right;\">\n",
       "      <th></th>\n",
       "      <th>id</th>\n",
       "      <th>amount_tsh</th>\n",
       "      <th>date_recorded</th>\n",
       "      <th>funder</th>\n",
       "      <th>gps_height</th>\n",
       "      <th>installer</th>\n",
       "      <th>longitude</th>\n",
       "      <th>latitude</th>\n",
       "      <th>wpt_name</th>\n",
       "      <th>num_private</th>\n",
       "      <th>...</th>\n",
       "      <th>water_quality</th>\n",
       "      <th>quality_group</th>\n",
       "      <th>quantity</th>\n",
       "      <th>quantity_group</th>\n",
       "      <th>source</th>\n",
       "      <th>source_type</th>\n",
       "      <th>source_class</th>\n",
       "      <th>waterpoint_type</th>\n",
       "      <th>waterpoint_type_group</th>\n",
       "      <th>status_group</th>\n",
       "    </tr>\n",
       "  </thead>\n",
       "  <tbody>\n",
       "    <tr>\n",
       "      <th>0</th>\n",
       "      <td>69572</td>\n",
       "      <td>6000.0</td>\n",
       "      <td>2011-03-14</td>\n",
       "      <td>Roman</td>\n",
       "      <td>1390</td>\n",
       "      <td>Roman</td>\n",
       "      <td>34.938093</td>\n",
       "      <td>-9.856322</td>\n",
       "      <td>none</td>\n",
       "      <td>0</td>\n",
       "      <td>...</td>\n",
       "      <td>soft</td>\n",
       "      <td>good</td>\n",
       "      <td>enough</td>\n",
       "      <td>enough</td>\n",
       "      <td>spring</td>\n",
       "      <td>spring</td>\n",
       "      <td>groundwater</td>\n",
       "      <td>communal standpipe</td>\n",
       "      <td>communal standpipe</td>\n",
       "      <td>functional</td>\n",
       "    </tr>\n",
       "    <tr>\n",
       "      <th>1</th>\n",
       "      <td>8776</td>\n",
       "      <td>0.0</td>\n",
       "      <td>2013-03-06</td>\n",
       "      <td>Grumeti</td>\n",
       "      <td>1399</td>\n",
       "      <td>GRUMETI</td>\n",
       "      <td>34.698766</td>\n",
       "      <td>-2.147466</td>\n",
       "      <td>Zahanati</td>\n",
       "      <td>0</td>\n",
       "      <td>...</td>\n",
       "      <td>soft</td>\n",
       "      <td>good</td>\n",
       "      <td>insufficient</td>\n",
       "      <td>insufficient</td>\n",
       "      <td>rainwater harvesting</td>\n",
       "      <td>rainwater harvesting</td>\n",
       "      <td>surface</td>\n",
       "      <td>communal standpipe</td>\n",
       "      <td>communal standpipe</td>\n",
       "      <td>functional</td>\n",
       "    </tr>\n",
       "    <tr>\n",
       "      <th>2</th>\n",
       "      <td>34310</td>\n",
       "      <td>25.0</td>\n",
       "      <td>2013-02-25</td>\n",
       "      <td>Lottery Club</td>\n",
       "      <td>686</td>\n",
       "      <td>World vision</td>\n",
       "      <td>37.460664</td>\n",
       "      <td>-3.821329</td>\n",
       "      <td>Kwa Mahundi</td>\n",
       "      <td>0</td>\n",
       "      <td>...</td>\n",
       "      <td>soft</td>\n",
       "      <td>good</td>\n",
       "      <td>enough</td>\n",
       "      <td>enough</td>\n",
       "      <td>dam</td>\n",
       "      <td>dam</td>\n",
       "      <td>surface</td>\n",
       "      <td>communal standpipe multiple</td>\n",
       "      <td>communal standpipe</td>\n",
       "      <td>functional</td>\n",
       "    </tr>\n",
       "    <tr>\n",
       "      <th>3</th>\n",
       "      <td>67743</td>\n",
       "      <td>0.0</td>\n",
       "      <td>2013-01-28</td>\n",
       "      <td>Unicef</td>\n",
       "      <td>263</td>\n",
       "      <td>UNICEF</td>\n",
       "      <td>38.486161</td>\n",
       "      <td>-11.155298</td>\n",
       "      <td>Zahanati Ya Nanyumbu</td>\n",
       "      <td>0</td>\n",
       "      <td>...</td>\n",
       "      <td>soft</td>\n",
       "      <td>good</td>\n",
       "      <td>dry</td>\n",
       "      <td>dry</td>\n",
       "      <td>machine dbh</td>\n",
       "      <td>borehole</td>\n",
       "      <td>groundwater</td>\n",
       "      <td>communal standpipe multiple</td>\n",
       "      <td>communal standpipe</td>\n",
       "      <td>non functional</td>\n",
       "    </tr>\n",
       "    <tr>\n",
       "      <th>4</th>\n",
       "      <td>19728</td>\n",
       "      <td>0.0</td>\n",
       "      <td>2011-07-13</td>\n",
       "      <td>Action In A</td>\n",
       "      <td>0</td>\n",
       "      <td>Artisan</td>\n",
       "      <td>31.130847</td>\n",
       "      <td>-1.825359</td>\n",
       "      <td>Shuleni</td>\n",
       "      <td>0</td>\n",
       "      <td>...</td>\n",
       "      <td>soft</td>\n",
       "      <td>good</td>\n",
       "      <td>seasonal</td>\n",
       "      <td>seasonal</td>\n",
       "      <td>rainwater harvesting</td>\n",
       "      <td>rainwater harvesting</td>\n",
       "      <td>surface</td>\n",
       "      <td>communal standpipe</td>\n",
       "      <td>communal standpipe</td>\n",
       "      <td>functional</td>\n",
       "    </tr>\n",
       "    <tr>\n",
       "      <th>5</th>\n",
       "      <td>9944</td>\n",
       "      <td>20.0</td>\n",
       "      <td>2011-03-13</td>\n",
       "      <td>Mkinga Distric Coun</td>\n",
       "      <td>0</td>\n",
       "      <td>DWE</td>\n",
       "      <td>39.172796</td>\n",
       "      <td>-4.765587</td>\n",
       "      <td>Tajiri</td>\n",
       "      <td>0</td>\n",
       "      <td>...</td>\n",
       "      <td>salty</td>\n",
       "      <td>salty</td>\n",
       "      <td>enough</td>\n",
       "      <td>enough</td>\n",
       "      <td>other</td>\n",
       "      <td>other</td>\n",
       "      <td>unknown</td>\n",
       "      <td>communal standpipe multiple</td>\n",
       "      <td>communal standpipe</td>\n",
       "      <td>functional</td>\n",
       "    </tr>\n",
       "    <tr>\n",
       "      <th>6</th>\n",
       "      <td>19816</td>\n",
       "      <td>0.0</td>\n",
       "      <td>2012-10-01</td>\n",
       "      <td>Dwsp</td>\n",
       "      <td>0</td>\n",
       "      <td>DWSP</td>\n",
       "      <td>33.362410</td>\n",
       "      <td>-3.766365</td>\n",
       "      <td>Kwa Ngomho</td>\n",
       "      <td>0</td>\n",
       "      <td>...</td>\n",
       "      <td>soft</td>\n",
       "      <td>good</td>\n",
       "      <td>enough</td>\n",
       "      <td>enough</td>\n",
       "      <td>machine dbh</td>\n",
       "      <td>borehole</td>\n",
       "      <td>groundwater</td>\n",
       "      <td>hand pump</td>\n",
       "      <td>hand pump</td>\n",
       "      <td>non functional</td>\n",
       "    </tr>\n",
       "    <tr>\n",
       "      <th>7</th>\n",
       "      <td>54551</td>\n",
       "      <td>0.0</td>\n",
       "      <td>2012-10-09</td>\n",
       "      <td>Rwssp</td>\n",
       "      <td>0</td>\n",
       "      <td>DWE</td>\n",
       "      <td>32.620617</td>\n",
       "      <td>-4.226198</td>\n",
       "      <td>Tushirikiane</td>\n",
       "      <td>0</td>\n",
       "      <td>...</td>\n",
       "      <td>milky</td>\n",
       "      <td>milky</td>\n",
       "      <td>enough</td>\n",
       "      <td>enough</td>\n",
       "      <td>shallow well</td>\n",
       "      <td>shallow well</td>\n",
       "      <td>groundwater</td>\n",
       "      <td>hand pump</td>\n",
       "      <td>hand pump</td>\n",
       "      <td>non functional</td>\n",
       "    </tr>\n",
       "    <tr>\n",
       "      <th>8</th>\n",
       "      <td>53934</td>\n",
       "      <td>0.0</td>\n",
       "      <td>2012-11-03</td>\n",
       "      <td>Wateraid</td>\n",
       "      <td>0</td>\n",
       "      <td>Water Aid</td>\n",
       "      <td>32.711100</td>\n",
       "      <td>-5.146712</td>\n",
       "      <td>Kwa Ramadhan Musa</td>\n",
       "      <td>0</td>\n",
       "      <td>...</td>\n",
       "      <td>salty</td>\n",
       "      <td>salty</td>\n",
       "      <td>seasonal</td>\n",
       "      <td>seasonal</td>\n",
       "      <td>machine dbh</td>\n",
       "      <td>borehole</td>\n",
       "      <td>groundwater</td>\n",
       "      <td>hand pump</td>\n",
       "      <td>hand pump</td>\n",
       "      <td>non functional</td>\n",
       "    </tr>\n",
       "    <tr>\n",
       "      <th>9</th>\n",
       "      <td>46144</td>\n",
       "      <td>0.0</td>\n",
       "      <td>2011-08-03</td>\n",
       "      <td>Isingiro Ho</td>\n",
       "      <td>0</td>\n",
       "      <td>Artisan</td>\n",
       "      <td>30.626991</td>\n",
       "      <td>-1.257051</td>\n",
       "      <td>Kwapeto</td>\n",
       "      <td>0</td>\n",
       "      <td>...</td>\n",
       "      <td>soft</td>\n",
       "      <td>good</td>\n",
       "      <td>enough</td>\n",
       "      <td>enough</td>\n",
       "      <td>shallow well</td>\n",
       "      <td>shallow well</td>\n",
       "      <td>groundwater</td>\n",
       "      <td>hand pump</td>\n",
       "      <td>hand pump</td>\n",
       "      <td>functional</td>\n",
       "    </tr>\n",
       "  </tbody>\n",
       "</table>\n",
       "<p>10 rows × 41 columns</p>\n",
       "</div>"
      ],
      "text/plain": [
       "      id  amount_tsh date_recorded               funder  gps_height  \\\n",
       "0  69572      6000.0    2011-03-14                Roman        1390   \n",
       "1   8776         0.0    2013-03-06              Grumeti        1399   \n",
       "2  34310        25.0    2013-02-25         Lottery Club         686   \n",
       "3  67743         0.0    2013-01-28               Unicef         263   \n",
       "4  19728         0.0    2011-07-13          Action In A           0   \n",
       "5   9944        20.0    2011-03-13  Mkinga Distric Coun           0   \n",
       "6  19816         0.0    2012-10-01                 Dwsp           0   \n",
       "7  54551         0.0    2012-10-09                Rwssp           0   \n",
       "8  53934         0.0    2012-11-03             Wateraid           0   \n",
       "9  46144         0.0    2011-08-03          Isingiro Ho           0   \n",
       "\n",
       "      installer  longitude   latitude              wpt_name  num_private  ...  \\\n",
       "0         Roman  34.938093  -9.856322                  none            0  ...   \n",
       "1       GRUMETI  34.698766  -2.147466              Zahanati            0  ...   \n",
       "2  World vision  37.460664  -3.821329           Kwa Mahundi            0  ...   \n",
       "3        UNICEF  38.486161 -11.155298  Zahanati Ya Nanyumbu            0  ...   \n",
       "4       Artisan  31.130847  -1.825359               Shuleni            0  ...   \n",
       "5           DWE  39.172796  -4.765587                Tajiri            0  ...   \n",
       "6          DWSP  33.362410  -3.766365            Kwa Ngomho            0  ...   \n",
       "7           DWE  32.620617  -4.226198          Tushirikiane            0  ...   \n",
       "8     Water Aid  32.711100  -5.146712     Kwa Ramadhan Musa            0  ...   \n",
       "9       Artisan  30.626991  -1.257051               Kwapeto            0  ...   \n",
       "\n",
       "  water_quality quality_group      quantity  quantity_group  \\\n",
       "0          soft          good        enough          enough   \n",
       "1          soft          good  insufficient    insufficient   \n",
       "2          soft          good        enough          enough   \n",
       "3          soft          good           dry             dry   \n",
       "4          soft          good      seasonal        seasonal   \n",
       "5         salty         salty        enough          enough   \n",
       "6          soft          good        enough          enough   \n",
       "7         milky         milky        enough          enough   \n",
       "8         salty         salty      seasonal        seasonal   \n",
       "9          soft          good        enough          enough   \n",
       "\n",
       "                 source           source_type source_class  \\\n",
       "0                spring                spring  groundwater   \n",
       "1  rainwater harvesting  rainwater harvesting      surface   \n",
       "2                   dam                   dam      surface   \n",
       "3           machine dbh              borehole  groundwater   \n",
       "4  rainwater harvesting  rainwater harvesting      surface   \n",
       "5                 other                 other      unknown   \n",
       "6           machine dbh              borehole  groundwater   \n",
       "7          shallow well          shallow well  groundwater   \n",
       "8           machine dbh              borehole  groundwater   \n",
       "9          shallow well          shallow well  groundwater   \n",
       "\n",
       "               waterpoint_type waterpoint_type_group    status_group  \n",
       "0           communal standpipe    communal standpipe      functional  \n",
       "1           communal standpipe    communal standpipe      functional  \n",
       "2  communal standpipe multiple    communal standpipe      functional  \n",
       "3  communal standpipe multiple    communal standpipe  non functional  \n",
       "4           communal standpipe    communal standpipe      functional  \n",
       "5  communal standpipe multiple    communal standpipe      functional  \n",
       "6                    hand pump             hand pump  non functional  \n",
       "7                    hand pump             hand pump  non functional  \n",
       "8                    hand pump             hand pump  non functional  \n",
       "9                    hand pump             hand pump      functional  \n",
       "\n",
       "[10 rows x 41 columns]"
      ]
     },
     "execution_count": 2,
     "metadata": {},
     "output_type": "execute_result"
    }
   ],
   "source": [
    "import pandas as pd\n",
    "df_values = pd.read_csv (r'G:\\Meu Drive\\UFRJ Disciplinas\\Projeto Final\\pump-it-up-data-mining-the-water-table\\Pump_it_Up_Data_Mining_the_Water_Table_-_Training_set_values.csv')\n",
    "df_labels = pd.read_csv (r'G:\\Meu Drive\\UFRJ Disciplinas\\Projeto Final\\pump-it-up-data-mining-the-water-table\\Pump_it_Up_Data_Mining_the_Water_Table_-_Training_set_labels.csv')\n",
    "df = pd.merge (df_values,df_labels, how = 'inner')\n",
    "\n",
    "# exploring data \n",
    "df.head(10)"
   ]
  },
  {
   "cell_type": "code",
   "execution_count": 3,
   "metadata": {},
   "outputs": [
    {
     "name": "stdout",
     "output_type": "stream",
     "text": [
      "<class 'pandas.core.frame.DataFrame'>\n",
      "Int64Index: 59400 entries, 0 to 59399\n",
      "Data columns (total 41 columns):\n",
      " #   Column                 Non-Null Count  Dtype  \n",
      "---  ------                 --------------  -----  \n",
      " 0   id                     59400 non-null  int64  \n",
      " 1   amount_tsh             59400 non-null  float64\n",
      " 2   date_recorded          59400 non-null  object \n",
      " 3   funder                 55765 non-null  object \n",
      " 4   gps_height             59400 non-null  int64  \n",
      " 5   installer              55745 non-null  object \n",
      " 6   longitude              59400 non-null  float64\n",
      " 7   latitude               59400 non-null  float64\n",
      " 8   wpt_name               59400 non-null  object \n",
      " 9   num_private            59400 non-null  int64  \n",
      " 10  basin                  59400 non-null  object \n",
      " 11  subvillage             59029 non-null  object \n",
      " 12  region                 59400 non-null  object \n",
      " 13  region_code            59400 non-null  int64  \n",
      " 14  district_code          59400 non-null  int64  \n",
      " 15  lga                    59400 non-null  object \n",
      " 16  ward                   59400 non-null  object \n",
      " 17  population             59400 non-null  int64  \n",
      " 18  public_meeting         56066 non-null  object \n",
      " 19  recorded_by            59400 non-null  object \n",
      " 20  scheme_management      55523 non-null  object \n",
      " 21  scheme_name            31234 non-null  object \n",
      " 22  permit                 56344 non-null  object \n",
      " 23  construction_year      59400 non-null  int64  \n",
      " 24  extraction_type        59400 non-null  object \n",
      " 25  extraction_type_group  59400 non-null  object \n",
      " 26  extraction_type_class  59400 non-null  object \n",
      " 27  management             59400 non-null  object \n",
      " 28  management_group       59400 non-null  object \n",
      " 29  payment                59400 non-null  object \n",
      " 30  payment_type           59400 non-null  object \n",
      " 31  water_quality          59400 non-null  object \n",
      " 32  quality_group          59400 non-null  object \n",
      " 33  quantity               59400 non-null  object \n",
      " 34  quantity_group         59400 non-null  object \n",
      " 35  source                 59400 non-null  object \n",
      " 36  source_type            59400 non-null  object \n",
      " 37  source_class           59400 non-null  object \n",
      " 38  waterpoint_type        59400 non-null  object \n",
      " 39  waterpoint_type_group  59400 non-null  object \n",
      " 40  status_group           59400 non-null  object \n",
      "dtypes: float64(3), int64(7), object(31)\n",
      "memory usage: 19.0+ MB\n"
     ]
    }
   ],
   "source": [
    "df.info()"
   ]
  },
  {
   "cell_type": "markdown",
   "metadata": {},
   "source": [
    "As we can see, most of our variables are categorical. I've chosen a subset of data to explore and test its influences on the variable that we want predict. "
   ]
  },
  {
   "cell_type": "code",
   "execution_count": 4,
   "metadata": {},
   "outputs": [
    {
     "data": {
      "text/html": [
       "<div>\n",
       "<style scoped>\n",
       "    .dataframe tbody tr th:only-of-type {\n",
       "        vertical-align: middle;\n",
       "    }\n",
       "\n",
       "    .dataframe tbody tr th {\n",
       "        vertical-align: top;\n",
       "    }\n",
       "\n",
       "    .dataframe thead th {\n",
       "        text-align: right;\n",
       "    }\n",
       "</style>\n",
       "<table border=\"1\" class=\"dataframe\">\n",
       "  <thead>\n",
       "    <tr style=\"text-align: right;\">\n",
       "      <th></th>\n",
       "      <th>id</th>\n",
       "      <th>amount_tsh</th>\n",
       "      <th>gps_height</th>\n",
       "      <th>longitude</th>\n",
       "      <th>latitude</th>\n",
       "      <th>population</th>\n",
       "      <th>construction_year</th>\n",
       "    </tr>\n",
       "  </thead>\n",
       "  <tbody>\n",
       "    <tr>\n",
       "      <th>count</th>\n",
       "      <td>59400.000000</td>\n",
       "      <td>59400.000000</td>\n",
       "      <td>59400.000000</td>\n",
       "      <td>59400.000000</td>\n",
       "      <td>5.940000e+04</td>\n",
       "      <td>59400.000000</td>\n",
       "      <td>59400.000000</td>\n",
       "    </tr>\n",
       "    <tr>\n",
       "      <th>mean</th>\n",
       "      <td>37115.131768</td>\n",
       "      <td>317.650385</td>\n",
       "      <td>668.297239</td>\n",
       "      <td>34.077427</td>\n",
       "      <td>-5.706033e+00</td>\n",
       "      <td>179.909983</td>\n",
       "      <td>1300.652475</td>\n",
       "    </tr>\n",
       "    <tr>\n",
       "      <th>std</th>\n",
       "      <td>21453.128371</td>\n",
       "      <td>2997.574558</td>\n",
       "      <td>693.116350</td>\n",
       "      <td>6.567432</td>\n",
       "      <td>2.946019e+00</td>\n",
       "      <td>471.482176</td>\n",
       "      <td>951.620547</td>\n",
       "    </tr>\n",
       "    <tr>\n",
       "      <th>min</th>\n",
       "      <td>0.000000</td>\n",
       "      <td>0.000000</td>\n",
       "      <td>-90.000000</td>\n",
       "      <td>0.000000</td>\n",
       "      <td>-1.164944e+01</td>\n",
       "      <td>0.000000</td>\n",
       "      <td>0.000000</td>\n",
       "    </tr>\n",
       "    <tr>\n",
       "      <th>25%</th>\n",
       "      <td>18519.750000</td>\n",
       "      <td>0.000000</td>\n",
       "      <td>0.000000</td>\n",
       "      <td>33.090347</td>\n",
       "      <td>-8.540621e+00</td>\n",
       "      <td>0.000000</td>\n",
       "      <td>0.000000</td>\n",
       "    </tr>\n",
       "    <tr>\n",
       "      <th>50%</th>\n",
       "      <td>37061.500000</td>\n",
       "      <td>0.000000</td>\n",
       "      <td>369.000000</td>\n",
       "      <td>34.908743</td>\n",
       "      <td>-5.021597e+00</td>\n",
       "      <td>25.000000</td>\n",
       "      <td>1986.000000</td>\n",
       "    </tr>\n",
       "    <tr>\n",
       "      <th>75%</th>\n",
       "      <td>55656.500000</td>\n",
       "      <td>20.000000</td>\n",
       "      <td>1319.250000</td>\n",
       "      <td>37.178387</td>\n",
       "      <td>-3.326156e+00</td>\n",
       "      <td>215.000000</td>\n",
       "      <td>2004.000000</td>\n",
       "    </tr>\n",
       "    <tr>\n",
       "      <th>max</th>\n",
       "      <td>74247.000000</td>\n",
       "      <td>350000.000000</td>\n",
       "      <td>2770.000000</td>\n",
       "      <td>40.345193</td>\n",
       "      <td>-2.000000e-08</td>\n",
       "      <td>30500.000000</td>\n",
       "      <td>2013.000000</td>\n",
       "    </tr>\n",
       "  </tbody>\n",
       "</table>\n",
       "</div>"
      ],
      "text/plain": [
       "                 id     amount_tsh    gps_height     longitude      latitude  \\\n",
       "count  59400.000000   59400.000000  59400.000000  59400.000000  5.940000e+04   \n",
       "mean   37115.131768     317.650385    668.297239     34.077427 -5.706033e+00   \n",
       "std    21453.128371    2997.574558    693.116350      6.567432  2.946019e+00   \n",
       "min        0.000000       0.000000    -90.000000      0.000000 -1.164944e+01   \n",
       "25%    18519.750000       0.000000      0.000000     33.090347 -8.540621e+00   \n",
       "50%    37061.500000       0.000000    369.000000     34.908743 -5.021597e+00   \n",
       "75%    55656.500000      20.000000   1319.250000     37.178387 -3.326156e+00   \n",
       "max    74247.000000  350000.000000   2770.000000     40.345193 -2.000000e-08   \n",
       "\n",
       "         population  construction_year  \n",
       "count  59400.000000       59400.000000  \n",
       "mean     179.909983        1300.652475  \n",
       "std      471.482176         951.620547  \n",
       "min        0.000000           0.000000  \n",
       "25%        0.000000           0.000000  \n",
       "50%       25.000000        1986.000000  \n",
       "75%      215.000000        2004.000000  \n",
       "max    30500.000000        2013.000000  "
      ]
     },
     "execution_count": 4,
     "metadata": {},
     "output_type": "execute_result"
    }
   ],
   "source": [
    "df_eda = df[['id','date_recorded','amount_tsh','gps_height','longitude','latitude','wpt_name','region','population','public_meeting','construction_year','payment','source','waterpoint_type','status_group','quantity']]\n",
    "df_eda.describe()"
   ]
  },
  {
   "cell_type": "markdown",
   "metadata": {},
   "source": [
    "#### We'll be exploring our numerical data and then run our EDA\n",
    "\n",
    "As we can see below, there are many missing *construction year* value. Then further we'll handle this values in order to going foward with our analysis"
   ]
  },
  {
   "cell_type": "code",
   "execution_count": 5,
   "metadata": {},
   "outputs": [
    {
     "data": {
      "image/png": "[encoded data removed]",
      "text/plain": [
       "<Figure size 432x288 with 1 Axes>"
      ]
     },
     "metadata": {
      "needs_background": "light"
     },
     "output_type": "display_data"
    }
   ],
   "source": [
    "import matplotlib.pyplot as plt\n",
    "graph_1 = df_eda['construction_year'].hist()\n",
    "plt.title('CONSTRUCTION YEAR')\n",
    "plt.show(graph_1)"
   ]
  },
  {
   "cell_type": "code",
   "execution_count": 6,
   "metadata": {},
   "outputs": [
    {
     "data": {
      "text/plain": [
       "Text(0.5, 1.0, 'POPULATION')"
      ]
     },
     "execution_count": 6,
     "metadata": {},
     "output_type": "execute_result"
    },
    {
     "data": {
      "image/png": "[encoded data removed]",
      "text/plain": [
       "<Figure size 432x288 with 1 Axes>"
      ]
     },
     "metadata": {
      "needs_background": "light"
     },
     "output_type": "display_data"
    }
   ],
   "source": [
    "test = df_eda[['population','public_meeting']]\n",
    "test_groupby = test.groupby('public_meeting')\n",
    "test_groupby.sum().plot.bar()\n",
    "plt.title('POPULATION')"
   ]
  },
  {
   "cell_type": "code",
   "execution_count": 7,
   "metadata": {},
   "outputs": [
    {
     "data": {
      "image/png": "[encoded data removed]",
      "text/plain": [
       "<Figure size 432x288 with 1 Axes>"
      ]
     },
     "metadata": {
      "needs_background": "light"
     },
     "output_type": "display_data"
    }
   ],
   "source": [
    "graph_1 = df_eda['gps_height'].hist()\n",
    "plt.title('GPS HEIGHT')\n",
    "plt.show(graph_1)"
   ]
  },
  {
   "cell_type": "code",
   "execution_count": 8,
   "metadata": {},
   "outputs": [
    {
     "data": {
      "image/png": "[encoded data removed]",
      "text/plain": [
       "<Figure size 432x288 with 1 Axes>"
      ]
     },
     "metadata": {
      "needs_background": "light"
     },
     "output_type": "display_data"
    }
   ],
   "source": [
    "graph_1 = df_eda['amount_tsh'].hist()\n",
    "plt.title('STATIC HEAD')\n",
    "plt.show(graph_1)"
   ]
  },
  {
   "cell_type": "code",
   "execution_count": 9,
   "metadata": {},
   "outputs": [
    {
     "data": {
      "image/png": "[encoded data removed]",
      "text/plain": [
       "<Figure size 1440x720 with 1 Axes>"
      ]
     },
     "metadata": {
      "needs_background": "light"
     },
     "output_type": "display_data"
    }
   ],
   "source": [
    "import matplotlib.pyplot as plt\n",
    "import matplotlib\n",
    "\n",
    "df_eda_year = df_eda[df_eda['construction_year'] != 0][['construction_year','status_group']]\n",
    "ct = pd.crosstab(df_eda_year.construction_year, df_eda_year.status_group,normalize='index')\n",
    "\n",
    "ct.plot.bar(stacked=True,figsize=(20,10))\n",
    "plt.legend(title='status_group')\n",
    "plt.ylabel('Percentage of Pumps')\n",
    "plt.xlabel('Construction Year')\n",
    "plt.show()"
   ]
  },
  {
   "cell_type": "code",
   "execution_count": 10,
   "metadata": {},
   "outputs": [
    {
     "data": {
      "image/png": "[encoded data removed]",
      "text/plain": [
       "<Figure size 720x360 with 1 Axes>"
      ]
     },
     "metadata": {
      "needs_background": "light"
     },
     "output_type": "display_data"
    }
   ],
   "source": [
    "df_eda_pm = df_eda[df_eda['construction_year'] != 0][['public_meeting','status_group']]\n",
    "ct = pd.crosstab(df_eda_pm.public_meeting, df_eda_pm.status_group,normalize='index')\n",
    "ct.plot.bar(stacked=True,figsize=(10,5))\n",
    "plt.legend(title='status_group')\n",
    "plt.ylabel('Percentage of Pumps')\n",
    "plt.xlabel('Public Meeting')\n",
    "plt.show()"
   ]
  },
  {
   "cell_type": "code",
   "execution_count": 11,
   "metadata": {},
   "outputs": [
    {
     "data": {
      "image/png": "[encoded data removed]",
      "text/plain": [
       "<Figure size 720x360 with 1 Axes>"
      ]
     },
     "metadata": {
      "needs_background": "light"
     },
     "output_type": "display_data"
    }
   ],
   "source": [
    "df_eda_pay = df_eda[df_eda['construction_year'] != 0][['payment','status_group']]\n",
    "ct = pd.crosstab(df_eda_pay.payment, df_eda_pay.status_group,normalize='index')\n",
    "ct.plot.bar(stacked=True,figsize=(10,5))\n",
    "plt.legend(title='status_group')\n",
    "plt.ylabel('Percentage of Pumps')\n",
    "plt.xlabel('Public Meeting')\n",
    "plt.show()"
   ]
  },
  {
   "cell_type": "code",
   "execution_count": 12,
   "metadata": {},
   "outputs": [
    {
     "data": {
      "image/png": "[encoded data removed]",
      "text/plain": [
       "<Figure size 720x360 with 1 Axes>"
      ]
     },
     "metadata": {
      "needs_background": "light"
     },
     "output_type": "display_data"
    }
   ],
   "source": [
    "df_eda_pay = df_eda[df_eda['construction_year'] != 0][['source','status_group']]\n",
    "ct = pd.crosstab(df_eda_pay.source, df_eda_pay.status_group,normalize='index')\n",
    "ct.plot.bar(stacked=True,figsize=(10,5))\n",
    "plt.legend(title='status_group')\n",
    "plt.ylabel('Percentage of Pumps')\n",
    "plt.xlabel('Public Meeting')\n",
    "plt.show()"
   ]
  },
  {
   "cell_type": "code",
   "execution_count": 13,
   "metadata": {},
   "outputs": [
    {
     "data": {
      "image/png": "[encoded data removed]",
      "text/plain": [
       "<Figure size 864x720 with 1 Axes>"
      ]
     },
     "metadata": {
      "needs_background": "light"
     },
     "output_type": "display_data"
    }
   ],
   "source": [
    "df_eda_pay = df_eda[df_eda['construction_year'] != 0][['waterpoint_type','status_group']]\n",
    "ct = pd.crosstab(df_eda_pay.waterpoint_type, df_eda_pay.status_group,normalize='index')\n",
    "ct.plot.bar(stacked=True,figsize=(12,10))\n",
    "plt.legend(title='status_group')\n",
    "plt.ylabel('Percentage of Pumps')\n",
    "plt.xlabel('waterpoint_type')\n",
    "plt.show()"
   ]
  },
  {
   "cell_type": "code",
   "execution_count": 14,
   "metadata": {},
   "outputs": [
    {
     "data": {
      "image/png": "[encoded data removed]",
      "text/plain": [
       "<Figure size 864x720 with 1 Axes>"
      ]
     },
     "metadata": {
      "needs_background": "light"
     },
     "output_type": "display_data"
    }
   ],
   "source": [
    "df_eda_pay = df_eda[df_eda['construction_year'] != 0][['region','status_group']]\n",
    "ct = pd.crosstab(df_eda_pay.region, df_eda_pay.status_group,normalize='index')\n",
    "ct.plot.bar(stacked=True,figsize=(12,10))\n",
    "plt.legend(title='status_group')\n",
    "plt.ylabel('Percentage of Pumps')\n",
    "plt.xlabel('region')\n",
    "plt.show()"
   ]
  },
  {
   "cell_type": "code",
   "execution_count": 15,
   "metadata": {},
   "outputs": [
    {
     "data": {
      "image/png": "[encoded data removed]",
      "text/plain": [
       "<Figure size 864x720 with 1 Axes>"
      ]
     },
     "metadata": {
      "needs_background": "light"
     },
     "output_type": "display_data"
    }
   ],
   "source": [
    "df_eda_pay = df_eda[df_eda['construction_year'] != 0][['quantity','status_group']]\n",
    "ct = pd.crosstab(df_eda_pay.quantity, df_eda_pay.status_group,normalize='index')\n",
    "ct.plot.bar(stacked=True,figsize=(12,10))\n",
    "plt.legend(title='status_group')\n",
    "plt.ylabel('Percentage of Pumps')\n",
    "plt.xlabel('quantity')\n",
    "plt.show()"
   ]
  },
  {
   "cell_type": "markdown",
   "metadata": {},
   "source": [
    "### Another important observations is the *static head* \n",
    "\n",
    "* This variable mean the amount of energy needed by the pump to move a amount os mass (of water). \n",
    "* We can clearly see that pumps with lower heads are likely to fail "
   ]
  },
  {
   "cell_type": "code",
   "execution_count": 16,
   "metadata": {},
   "outputs": [
    {
     "name": "stderr",
     "output_type": "stream",
     "text": [
      "C:\\Users\\Asaph Tinoco\\anaconda3\\lib\\site-packages\\ipykernel_launcher.py:4: SettingWithCopyWarning: \n",
      "A value is trying to be set on a copy of a slice from a DataFrame.\n",
      "Try using .loc[row_indexer,col_indexer] = value instead\n",
      "\n",
      "See the caveats in the documentation: https://pandas.pydata.org/pandas-docs/stable/user_guide/indexing.html#returning-a-view-versus-a-copy\n",
      "  after removing the cwd from sys.path.\n"
     ]
    },
    {
     "data": {
      "text/plain": [
       "<matplotlib.axes._subplots.AxesSubplot at 0x26038fbd048>"
      ]
     },
     "execution_count": 16,
     "metadata": {},
     "output_type": "execute_result"
    },
    {
     "data": {
      "image/png": "[encoded data removed]",
      "text/plain": [
       "<Figure size 864x720 with 1 Axes>"
      ]
     },
     "metadata": {
      "needs_background": "light"
     },
     "output_type": "display_data"
    }
   ],
   "source": [
    "import numpy as np \n",
    "\n",
    "df_head = df_eda[df_eda['construction_year']!= 0]\n",
    "df_head['cut_head'] = pd.cut(df_eda['amount_tsh'],bins = [-np.inf,0,1,2,3,4,5,10,15,20,25, np.inf])\n",
    "df_head['cut_head'].value_counts()\n",
    "ct = pd.crosstab(df_head['cut_head'],df_head['status_group'],normalize = 'index')\n",
    "ct.plot.bar(stacked=True,figsize=(12,10))"
   ]
  },
  {
   "cell_type": "markdown",
   "metadata": {},
   "source": [
    "* We have almost 30% of our dataset with null values for year, as we're handle with large dataset, i'll be deleting these rows \n",
    "* I'll be choosing region data instead of longitude and latitude data, but I'll keep gps height. "
   ]
  },
  {
   "cell_type": "markdown",
   "metadata": {},
   "source": [
    "### 2. Preprocessing Data\n",
    "#### 2.1 Inputation\n",
    "* As seen before, about 30% of the variable *construction year* is missing, then I've chosen to drop all rows concerned, given that we have a large data set..."
   ]
  },
  {
   "cell_type": "markdown",
   "metadata": {},
   "source": [
    "#### 2.2 Binning\n",
    "* For those who pay, instead of split in many classifications as it is, I'll be replacing by only for who pay, not pay and unknow\n",
    "* For tsh_amount (the static head) I will be classifying into 3 categories (low,mid,high)\n",
    "* Instead of *construction year* I'll be replacing by year of use: That will be de difference bewtween *construction year* and *date recorded*"
   ]
  },
  {
   "cell_type": "code",
   "execution_count": 17,
   "metadata": {},
   "outputs": [
    {
     "data": {
      "text/html": [
       "<div>\n",
       "<style scoped>\n",
       "    .dataframe tbody tr th:only-of-type {\n",
       "        vertical-align: middle;\n",
       "    }\n",
       "\n",
       "    .dataframe tbody tr th {\n",
       "        vertical-align: top;\n",
       "    }\n",
       "\n",
       "    .dataframe thead th {\n",
       "        text-align: right;\n",
       "    }\n",
       "</style>\n",
       "<table border=\"1\" class=\"dataframe\">\n",
       "  <thead>\n",
       "    <tr style=\"text-align: right;\">\n",
       "      <th>public_meeting</th>\n",
       "      <th>False</th>\n",
       "      <th>True</th>\n",
       "    </tr>\n",
       "    <tr>\n",
       "      <th>status_group</th>\n",
       "      <th></th>\n",
       "      <th></th>\n",
       "    </tr>\n",
       "  </thead>\n",
       "  <tbody>\n",
       "    <tr>\n",
       "      <th>functional</th>\n",
       "      <td>0.068690</td>\n",
       "      <td>0.931310</td>\n",
       "    </tr>\n",
       "    <tr>\n",
       "      <th>needs repair</th>\n",
       "      <td>0.105864</td>\n",
       "      <td>0.894136</td>\n",
       "    </tr>\n",
       "  </tbody>\n",
       "</table>\n",
       "</div>"
      ],
      "text/plain": [
       "public_meeting     False     True \n",
       "status_group                      \n",
       "functional      0.068690  0.931310\n",
       "needs repair    0.105864  0.894136"
      ]
     },
     "execution_count": 17,
     "metadata": {},
     "output_type": "execute_result"
    }
   ],
   "source": [
    "#Filtering Year\n",
    "df_eda_bin = df[df['construction_year'] != 0][['id','date_recorded','amount_tsh','gps_height','wpt_name','region','population','public_meeting','construction_year','payment','source','waterpoint_type','status_group','quantity']]\n",
    "df_eda_bin = df_eda_bin[df_eda_bin['construction_year']!=0]\n",
    "\n",
    "# Payment\n",
    "df_eda_bin['payment'] = df_eda_bin['payment'].str.replace('pay annually','pay')\n",
    "df_eda_bin['payment'] = df_eda_bin['payment'].str.replace('pay per bucket','pay')\n",
    "df_eda_bin['payment'] = df_eda_bin['payment'].str.replace('pay annually','pay')\n",
    "df_eda_bin['payment'] = df_eda_bin['payment'].str.replace('pay monthly','pay')\n",
    "df_eda_bin['payment'] = df_eda_bin['payment'].str.replace('pay when scheme fails','pay')\n",
    "\n",
    "\n",
    "#Static Head\n",
    "df_eda_bin['amount_tsh_cut'] = pd.cut(df_eda_bin['amount_tsh'], bins = [-np.inf,1,15, np.inf], labels = ['Low', 'Mid', 'High'])\n",
    "\n",
    "\n",
    "# Year of use\n",
    "pd.to_datetime(df_eda_bin['date_recorded'])\n",
    "df_eda_bin['recorded_date_year'] = pd.DatetimeIndex(df_eda_bin['date_recorded']).year\n",
    "df_eda_bin['usage_period'] =  df_eda_bin['recorded_date_year'] - df_eda_bin['construction_year']\n",
    "\n",
    "# Status Group \n",
    "df_eda_bin['status_group'] = df_eda_bin['status_group'].str.replace('functional needs repair','needs repair')\n",
    "df_eda_bin['status_group'] = df_eda_bin['status_group'].str.replace('non functional','needs repair')\n",
    "df_eda_bin.head()\n",
    "\n",
    "pd.crosstab(df_eda_bin['status_group'],df_eda_bin['public_meeting'], normalize = 'index')"
   ]
  },
  {
   "cell_type": "code",
   "execution_count": 18,
   "metadata": {},
   "outputs": [
    {
     "name": "stdout",
     "output_type": "stream",
     "text": [
      "<class 'pandas.core.frame.DataFrame'>\n",
      "Int64Index: 38691 entries, 0 to 59399\n",
      "Data columns (total 50 columns):\n",
      " #   Column                                       Non-Null Count  Dtype \n",
      "---  ------                                       --------------  ----- \n",
      " 0   waterpoint_type_communal standpipe           38691 non-null  uint8 \n",
      " 1   waterpoint_type_communal standpipe multiple  38691 non-null  uint8 \n",
      " 2   waterpoint_type_dam                          38691 non-null  uint8 \n",
      " 3   waterpoint_type_hand pump                    38691 non-null  uint8 \n",
      " 4   waterpoint_type_improved spring              38691 non-null  uint8 \n",
      " 5   waterpoint_type_other                        38691 non-null  uint8 \n",
      " 6   region_Dar es Salaam                         38691 non-null  uint8 \n",
      " 7   region_Iringa                                38691 non-null  uint8 \n",
      " 8   region_Kigoma                                38691 non-null  uint8 \n",
      " 9   region_Kilimanjaro                           38691 non-null  uint8 \n",
      " 10  region_Lindi                                 38691 non-null  uint8 \n",
      " 11  region_Manyara                               38691 non-null  uint8 \n",
      " 12  region_Mara                                  38691 non-null  uint8 \n",
      " 13  region_Morogoro                              38691 non-null  uint8 \n",
      " 14  region_Mtwara                                38691 non-null  uint8 \n",
      " 15  region_Mwanza                                38691 non-null  uint8 \n",
      " 16  region_Pwani                                 38691 non-null  uint8 \n",
      " 17  region_Rukwa                                 38691 non-null  uint8 \n",
      " 18  region_Ruvuma                                38691 non-null  uint8 \n",
      " 19  region_Shinyanga                             38691 non-null  uint8 \n",
      " 20  region_Singida                               38691 non-null  uint8 \n",
      " 21  region_Tanga                                 38691 non-null  uint8 \n",
      " 22  payment_other                                38691 non-null  uint8 \n",
      " 23  payment_pay                                  38691 non-null  uint8 \n",
      " 24  payment_unknown                              38691 non-null  uint8 \n",
      " 25  source_hand dtw                              38691 non-null  uint8 \n",
      " 26  source_lake                                  38691 non-null  uint8 \n",
      " 27  source_machine dbh                           38691 non-null  uint8 \n",
      " 28  source_other                                 38691 non-null  uint8 \n",
      " 29  source_rainwater harvesting                  38691 non-null  uint8 \n",
      " 30  source_river                                 38691 non-null  uint8 \n",
      " 31  source_shallow well                          38691 non-null  uint8 \n",
      " 32  source_spring                                38691 non-null  uint8 \n",
      " 33  source_unknown                               38691 non-null  uint8 \n",
      " 34  waterpoint_type_communal standpipe           38691 non-null  uint8 \n",
      " 35  waterpoint_type_communal standpipe multiple  38691 non-null  uint8 \n",
      " 36  waterpoint_type_dam                          38691 non-null  uint8 \n",
      " 37  waterpoint_type_hand pump                    38691 non-null  uint8 \n",
      " 38  waterpoint_type_improved spring              38691 non-null  uint8 \n",
      " 39  waterpoint_type_other                        38691 non-null  uint8 \n",
      " 40  quantity_enough                              38691 non-null  uint8 \n",
      " 41  quantity_insufficient                        38691 non-null  uint8 \n",
      " 42  quantity_seasonal                            38691 non-null  uint8 \n",
      " 43  quantity_unknown                             38691 non-null  uint8 \n",
      " 44  amount_tsh_cut_Mid                           38691 non-null  uint8 \n",
      " 45  amount_tsh_cut_High                          38691 non-null  uint8 \n",
      " 46  gps_height                                   38691 non-null  int64 \n",
      " 47  usage_period                                 38691 non-null  int64 \n",
      " 48  population                                   38691 non-null  int64 \n",
      " 49  status_group                                 38691 non-null  object\n",
      "dtypes: int64(3), object(1), uint8(46)\n",
      "memory usage: 3.2+ MB\n"
     ]
    }
   ],
   "source": [
    "#### 2.3 One-Hot Encoding\n",
    "df_n_dummies = df_eda_bin[['gps_height','usage_period','population','status_group']]\n",
    "df_dummies = df_eda_bin[['waterpoint_type','region','payment','source','waterpoint_type','quantity','amount_tsh_cut']]\n",
    "df_dummies = pd.get_dummies(df_dummies, drop_first = True)\n",
    "df_train_test = pd.concat([df_dummies, df_n_dummies], axis = 1)\n",
    "df_train_test.info()"
   ]
  },
  {
   "cell_type": "code",
   "execution_count": 19,
   "metadata": {},
   "outputs": [
    {
     "data": {
      "text/plain": [
       "functional      0.559762\n",
       "needs repair    0.440238\n",
       "Name: status_group, dtype: float64"
      ]
     },
     "execution_count": 19,
     "metadata": {},
     "output_type": "execute_result"
    }
   ],
   "source": [
    "from sklearn.model_selection import train_test_split\n",
    "y = df_train_test.iloc[:,-1]\n",
    "X = df_train_test.drop(['status_group'], axis = 1)\n",
    "\n",
    "X_train, X_test, y_train, y_test = train_test_split(X,y, test_size = 0.2)\n",
    "\n",
    "y_test.value_counts(1)"
   ]
  },
  {
   "cell_type": "code",
   "execution_count": 20,
   "metadata": {},
   "outputs": [
    {
     "name": "stderr",
     "output_type": "stream",
     "text": [
      "C:\\Users\\Asaph Tinoco\\anaconda3\\lib\\site-packages\\sklearn\\linear_model\\_logistic.py:940: ConvergenceWarning: lbfgs failed to converge (status=1):\n",
      "STOP: TOTAL NO. of ITERATIONS REACHED LIMIT.\n",
      "\n",
      "Increase the number of iterations (max_iter) or scale the data as shown in:\n",
      "    https://scikit-learn.org/stable/modules/preprocessing.html\n",
      "Please also refer to the documentation for alternative solver options:\n",
      "    https://scikit-learn.org/stable/modules/linear_model.html#logistic-regression\n",
      "  extra_warning_msg=_LOGISTIC_SOLVER_CONVERGENCE_MSG)\n"
     ]
    },
    {
     "name": "stdout",
     "output_type": "stream",
     "text": [
      "              precision    recall  f1-score   support\n",
      "\n",
      "  functional       0.73      0.85      0.79      4332\n",
      "needs repair       0.76      0.60      0.67      3407\n",
      "\n",
      "    accuracy                           0.74      7739\n",
      "   macro avg       0.75      0.73      0.73      7739\n",
      "weighted avg       0.74      0.74      0.74      7739\n",
      "\n"
     ]
    }
   ],
   "source": [
    "from sklearn.linear_model import LogisticRegression\n",
    "logreg = LogisticRegression(random_state=1)\n",
    "\n",
    "logreg.fit(X_train,y_train)\n",
    "y_pred = logreg.predict(X_test)\n",
    "from sklearn.metrics import classification_report\n",
    "print(classification_report(y_test, y_pred))"
   ]
  },
  {
   "cell_type": "code",
   "execution_count": 31,
   "metadata": {},
   "outputs": [
    {
     "name": "stdout",
     "output_type": "stream",
     "text": [
      "              precision    recall  f1-score   support\n",
      "\n",
      "  functional       0.77      0.85      0.81      4332\n",
      "needs repair       0.78      0.68      0.72      3407\n",
      "\n",
      "    accuracy                           0.77      7739\n",
      "   macro avg       0.78      0.76      0.77      7739\n",
      "weighted avg       0.77      0.77      0.77      7739\n",
      "\n"
     ]
    },
    {
     "data": {
      "text/plain": [
       "0.7741310246801912"
      ]
     },
     "execution_count": 31,
     "metadata": {},
     "output_type": "execute_result"
    }
   ],
   "source": [
    "from sklearn.tree import DecisionTreeClassifier\n",
    "from sklearn.metrics import accuracy_score\n",
    "from sklearn.model_selection import train_test_split\n",
    "\n",
    "dt = DecisionTreeClassifier (criterion = 'gini', max_depth = 13, random_state = 1)\n",
    "\n",
    "dt.fit(X_train,y_train)\n",
    "y_pred = dt.predict(X_test)\n",
    "\n",
    "from sklearn.metrics import classification_report\n",
    "print(classification_report(y_test, y_pred))\n",
    "accuracy_score(y_test, y_pred)"
   ]
  },
  {
   "cell_type": "code",
   "execution_count": 32,
   "metadata": {},
   "outputs": [
    {
     "name": "stdout",
     "output_type": "stream",
     "text": [
      "0.8346431585267304\n"
     ]
    }
   ],
   "source": [
    "from sklearn import linear_model\n",
    "from sklearn.metrics import roc_auc_score\n",
    "\n",
    "X = X_train\n",
    "y = y_train\n",
    "logreg = linear_model.LogisticRegression()\n",
    "logreg.fit(X, y)\n",
    "predictions = logreg.predict_proba(X)[:,1]\n",
    "auc = roc_auc_score(y, predictions)\n",
    "print(auc)"
   ]
  },
  {
   "cell_type": "code",
   "execution_count": 33,
   "metadata": {},
   "outputs": [
    {
     "name": "stdout",
     "output_type": "stream",
     "text": [
      "              precision    recall  f1-score   support\n",
      "\n",
      "  functional       0.76      0.89      0.82      4332\n",
      "needs repair       0.82      0.65      0.73      3407\n",
      "\n",
      "    accuracy                           0.78      7739\n",
      "   macro avg       0.79      0.77      0.78      7739\n",
      "weighted avg       0.79      0.78      0.78      7739\n",
      "\n"
     ]
    },
    {
     "data": {
      "text/plain": [
       "0.7849851401989921"
      ]
     },
     "execution_count": 33,
     "metadata": {},
     "output_type": "execute_result"
    }
   ],
   "source": [
    "from sklearn.neighbors import KNeighborsClassifier\n",
    "classifier = KNeighborsClassifier(n_neighbors=6)\n",
    "classifier.fit(X_train, y_train)\n",
    "y_pred = classifier.predict(X_test)\n",
    "print(classification_report(y_test, y_pred))\n",
    "accuracy_score(y_test, y_pred)"
   ]
  }
 ],
 "metadata": {
  "kernelspec": {
   "display_name": "Python 3",
   "language": "python",
   "name": "python3"
  },
  "language_info": {
   "codemirror_mode": {
    "name": "ipython",
    "version": 3
   },
   "file_extension": ".py",
   "mimetype": "text/x-python",
   "name": "python",
   "nbconvert_exporter": "python",
   "pygments_lexer": "ipython3",
   "version": "3.7.6"
  }
 },
 "nbformat": 4,
 "nbformat_minor": 4
}
